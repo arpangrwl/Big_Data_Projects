{
 "cells": [
  {
   "cell_type": "code",
   "execution_count": 17,
   "metadata": {
    "scrolled": true
   },
   "outputs": [
    {
     "data": {
      "text/plain": [
       "res10: org.apache.spark.SparkContext = org.apache.spark.SparkContext@2f097a1b\n"
      ]
     },
     "execution_count": 17,
     "metadata": {},
     "output_type": "execute_result"
    }
   ],
   "source": [
    "sc"
   ]
  },
  {
   "cell_type": "markdown",
   "metadata": {},
   "source": [
    "### 1. read points "
   ]
  },
  {
   "cell_type": "code",
   "execution_count": 18,
   "metadata": {},
   "outputs": [
    {
     "data": {
      "text/plain": [
       "pointsPath: String = hdfs:////user/ds503/project3/Points.csv\n",
       "points: org.apache.spark.rdd.RDD[String] = hdfs:////user/ds503/project3/Points.csv MapPartitionsRDD[42] at textFile at <console>:29\n"
      ]
     },
     "execution_count": 18,
     "metadata": {},
     "output_type": "execute_result"
    }
   ],
   "source": [
    "// Load one dataset \n",
    "val pointsPath=\"hdfs:////user/ds503/project3/Points.csv\"\n",
    "val points=sc.textFile(pointsPath)"
   ]
  },
  {
   "cell_type": "markdown",
   "metadata": {},
   "source": [
    "### 2. define two helper function"
   ]
  },
  {
   "cell_type": "code",
   "execution_count": 19,
   "metadata": {},
   "outputs": [
    {
     "data": {
      "text/plain": [
       "getCellID: (Int, Int) => Int = <function2>\n"
      ]
     },
     "execution_count": 19,
     "metadata": {},
     "output_type": "execute_result"
    }
   ],
   "source": [
    "// Input point x, y\n",
    "// Output cell ID\n",
    "val getCellID: (Int, Int) => Int = {\n",
    "    case (x, y) => {\n",
    "        val cell_x = ((x-1) / 20) + 1 \n",
    "        val cell_y = ((y-1) / 20) + 1 \n",
    "        cell_x + (500 - cell_y) * 500\n",
    "\n",
    "    }\n",
    "}"
   ]
  },
  {
   "cell_type": "code",
   "execution_count": 20,
   "metadata": {},
   "outputs": [
    {
     "data": {
      "text/plain": [
       "getNeighbour: Int => Array[Int] = <function1>\n"
      ]
     },
     "execution_count": 20,
     "metadata": {},
     "output_type": "execute_result"
    }
   ],
   "source": [
    "// Input cell ID\n",
    "// Output cell neighbour ID array\n",
    "val getNeighbour: Int => Array[Int] = c =>  {\n",
    "    \n",
    "    val upLeft = c - 501\n",
    "    val up = c - 500\n",
    "    val upRight = c - 499\n",
    "\n",
    "    val left = c - 1\n",
    "    val right = c + 1\n",
    "\n",
    "    val lowLeft = c + 499\n",
    "    val low = c + 500\n",
    "    val lowRight = c + 501\n",
    "    \n",
    "    if(c % 500 == 1) {\n",
    "        Array(up, upRight, right, low, lowRight).filter(x => {x >= 1 & x <= 250000})\n",
    "    } else if(c % 500 == 0){\n",
    "        Array(upLeft, up, left, lowLeft, low).filter(x => {x >= 1 & x <= 250000})\n",
    "    } else{\n",
    "        Array(upLeft, up, upRight, left, right, lowLeft, low, lowRight).filter(x => {x >= 1 & x <= 250000})\n",
    "    }\n",
    "\n",
    "}"
   ]
  },
  {
   "cell_type": "markdown",
   "metadata": {},
   "source": [
    "### 3. parse point\n",
    "from string to tuple (x, y)"
   ]
  },
  {
   "cell_type": "code",
   "execution_count": 21,
   "metadata": {},
   "outputs": [
    {
     "data": {
      "text/plain": [
       "pointsXY: org.apache.spark.rdd.RDD[(Int, Int)] = MapPartitionsRDD[43] at map at <console>:28\n",
       "res11: Array[(Int, Int)] = Array((2535,8149), (155,6776))\n"
      ]
     },
     "execution_count": 21,
     "metadata": {},
     "output_type": "execute_result"
    }
   ],
   "source": [
    "val pointsXY = points.map(x => {\n",
    "    val field = x.split(\",\")\n",
    "    (field(0).toInt, field(1).toInt)\n",
    "})\n",
    "pointsXY.take(2)"
   ]
  },
  {
   "cell_type": "markdown",
   "metadata": {},
   "source": [
    "### 4. compute cell points count \n",
    "(cellID, pointCount)"
   ]
  },
  {
   "cell_type": "code",
   "execution_count": 22,
   "metadata": {},
   "outputs": [
    {
     "name": "stdout",
     "output_type": "stream",
     "text": [
      "2019-03-30 00:02:55 WARN  Executor:66 - Managed memory leak detected; size = 5243080 bytes, TID = 55\n"
     ]
    },
    {
     "data": {
      "text/plain": [
       "cellPointsCount: org.apache.spark.rdd.RDD[(Int, Int)] = ShuffledRDD[45] at reduceByKey at <console>:32\n",
       "res12: Array[(Int, Int)] = Array((185012,46), (65722,39), (186574,67), (108150,51), (129434,47))\n"
      ]
     },
     "execution_count": 22,
     "metadata": {},
     "output_type": "execute_result"
    }
   ],
   "source": [
    "val cellPointsCount = pointsXY.map(x=>{\n",
    "    (getCellID(x._1, x._2), 1)\n",
    "}).reduceByKey((x, y) => x + y)\n",
    "cellPointsCount.take(5)"
   ]
  },
  {
   "cell_type": "markdown",
   "metadata": {},
   "source": [
    "### 5. compute cell neighbour count\n",
    "(cellID, neighbourCount)"
   ]
  },
  {
   "cell_type": "code",
   "execution_count": 23,
   "metadata": {},
   "outputs": [
    {
     "name": "stdout",
     "output_type": "stream",
     "text": [
      "2019-03-30 00:02:55 WARN  Executor:66 - Managed memory leak detected; size = 5243080 bytes, TID = 56\n"
     ]
    },
    {
     "data": {
      "text/plain": [
       "cellNeigCount: org.apache.spark.rdd.RDD[(Int, Int)] = MapPartitionsRDD[46] at map at <console>:30\n",
       "res13: Array[(Int, Int)] = Array((185012,8), (65722,8), (186574,8), (108150,8), (129434,8))\n"
      ]
     },
     "execution_count": 23,
     "metadata": {},
     "output_type": "execute_result"
    }
   ],
   "source": [
    "val cellNeigCount = cellPointsCount.map(x => {\n",
    "    val cellID = x._1\n",
    "    val cellNeigCount = getNeighbour(cellID).length\n",
    "    (cellID, cellNeigCount)\n",
    "})\n",
    "cellNeigCount.take(5)"
   ]
  },
  {
   "cell_type": "markdown",
   "metadata": {},
   "source": [
    "### 6. compute cell neighbour point avg count\n",
    "(cellID, neighbourAvgPointCount)"
   ]
  },
  {
   "cell_type": "code",
   "execution_count": 24,
   "metadata": {},
   "outputs": [
    {
     "name": "stdout",
     "output_type": "stream",
     "text": [
      "2019-03-30 00:02:58 WARN  Executor:66 - Managed memory leak detected; size = 45759468 bytes, TID = 59\n"
     ]
    },
    {
     "data": {
      "text/plain": [
       "cellNeigFlatCount: org.apache.spark.rdd.RDD[(Int, (Int, Option[Int]))] = MapPartitionsRDD[50] at leftOuterJoin at <console>:35\n",
       "res14: Array[(Int, (Int, Option[Int]))] = Array((185012,(184512,Some(46))), (185012,(185512,Some(46))), (185012,(185013,Some(46))), (185012,(185511,Some(46))), (185012,(185011,Some(46))), (185012,(184513,Some(46))), (185012,(184511,Some(46))), (185012,(185513,Some(46))), (65722,(66222,Some(39))), (65722,(65222,Some(39))))\n"
      ]
     },
     "execution_count": 24,
     "metadata": {},
     "output_type": "execute_result"
    }
   ],
   "source": [
    "val cellNeigFlatCount = cellPointsCount.flatMap(x=>{\n",
    "    val cellID = x._1\n",
    "    val cellNeigID = getNeighbour(cellID)\n",
    "    for(oneNeig <- cellNeigID)\n",
    "        yield (oneNeig, cellID)\n",
    "}).leftOuterJoin(cellPointsCount)\n",
    "cellNeigFlatCount.take(10)"
   ]
  },
  {
   "cell_type": "code",
   "execution_count": 25,
   "metadata": {},
   "outputs": [
    {
     "name": "stdout",
     "output_type": "stream",
     "text": [
      "2019-03-30 00:03:01 WARN  Executor:66 - Managed memory leak detected; size = 5243780 bytes, TID = 62\n"
     ]
    },
    {
     "data": {
      "text/plain": [
       "cellNeigPointCount: org.apache.spark.rdd.RDD[(Int, Int)] = ShuffledRDD[52] at reduceByKey at <console>:34\n",
       "res15: Array[(Int, Int)] = Array((185012,316), (65722,366), (186574,355), (108150,348), (129434,347))\n"
      ]
     },
     "execution_count": 25,
     "metadata": {},
     "output_type": "execute_result"
    }
   ],
   "source": [
    "// (cellID, neighbourPointCount)\n",
    "val cellNeigPointCount = cellNeigFlatCount.map(x => {\n",
    "    val cellID = x._2._1\n",
    "//     val cellNeigPointCount = if(x._2._2 == None) 0 else x._2._2.get\n",
    "    val cellNeigPointCount = if(x._2._2 == None) 0 else x._2._2.get\n",
    "    (cellID, cellNeigPointCount)\n",
    "}).reduceByKey((x, y) => (x + y))\n",
    "cellNeigPointCount.take(5)"
   ]
  },
  {
   "cell_type": "code",
   "execution_count": 26,
   "metadata": {},
   "outputs": [
    {
     "name": "stdout",
     "output_type": "stream",
     "text": [
      "2019-03-30 00:03:02 WARN  Executor:66 - Managed memory leak detected; size = 15748364 bytes, TID = 65\n"
     ]
    },
    {
     "data": {
      "text/plain": [
       "cellNeigAvgCount: org.apache.spark.rdd.RDD[(Int, Double)] = MapPartitionsRDD[56] at map at <console>:31\n",
       "res16: Array[(Int, Double)] = Array((185012,39.5), (65722,45.75), (186574,44.375), (108150,43.5), (129434,43.375))\n"
      ]
     },
     "execution_count": 26,
     "metadata": {},
     "output_type": "execute_result"
    }
   ],
   "source": [
    "val cellNeigAvgCount = cellNeigPointCount.join(cellNeigCount)\n",
    "                                         .map(x => (x._1, (x._2._1.toDouble/x._2._2.toDouble)))\n",
    "cellNeigAvgCount.take(5)\n"
   ]
  },
  {
   "cell_type": "markdown",
   "metadata": {},
   "source": [
    "### 7. compute cell density"
   ]
  },
  {
   "cell_type": "code",
   "execution_count": 27,
   "metadata": {},
   "outputs": [
    {
     "data": {
      "text/plain": [
       "cellDensity: org.apache.spark.rdd.RDD[(Int, Double)] = MapPartitionsRDD[65] at sortBy at <console>:30\n"
      ]
     },
     "execution_count": 27,
     "metadata": {},
     "output_type": "execute_result"
    }
   ],
   "source": [
    "val cellDensity = cellPointsCount.join(cellNeigAvgCount)\n",
    "                                 .map(x => (x._1, (x._2._1.toDouble/x._2._2.toDouble)))\n",
    "                                 .sortBy(-_._2)\n"
   ]
  },
  {
   "cell_type": "code",
   "execution_count": 28,
   "metadata": {},
   "outputs": [
    {
     "data": {
      "text/plain": [
       "res17: Array[(Int, Double)] = Array((44947,2.032154340836013), (68303,1.8313253012048192), (46501,1.8206521739130437), (241132,1.7969230769230768), (104811,1.7655172413793103), (6457,1.7610062893081762), (55493,1.7476923076923077), (226717,1.741046831955923), (84024,1.7379310344827585), (142898,1.732484076433121))\n"
      ]
     },
     "execution_count": 28,
     "metadata": {},
     "output_type": "execute_result"
    }
   ],
   "source": [
    "cellDensity.take(10)"
   ]
  },
  {
   "cell_type": "markdown",
   "metadata": {},
   "source": [
    "### 8. Top10 Density "
   ]
  },
  {
   "cell_type": "code",
   "execution_count": 29,
   "metadata": {},
   "outputs": [
    {
     "data": {
      "text/plain": [
       "top10: org.apache.spark.rdd.RDD[(Int, Double)] = ParallelCollectionRDD[66] at parallelize at <console>:27\n"
      ]
     },
     "execution_count": 29,
     "metadata": {},
     "output_type": "execute_result"
    }
   ],
   "source": [
    "val top10 = sc.parallelize(cellDensity.take(10))"
   ]
  },
  {
   "cell_type": "code",
   "execution_count": 30,
   "metadata": {},
   "outputs": [
    {
     "name": "stdout",
     "output_type": "stream",
     "text": [
      "(241132,1.7969230769230768)\n",
      "(84024,1.7379310344827585)\n",
      "(104811,1.7655172413793103)\n",
      "(142898,1.732484076433121)\n",
      "(44947,2.032154340836013)\n",
      "(68303,1.8313253012048192)\n",
      "(46501,1.8206521739130437)\n",
      "(6457,1.7610062893081762)\n",
      "(55493,1.7476923076923077)\n",
      "(226717,1.741046831955923)\n"
     ]
    }
   ],
   "source": [
    "top10.sortBy(-_._2).foreach(println)"
   ]
  },
  {
   "cell_type": "markdown",
   "metadata": {},
   "source": [
    "### 9. TOP k grid cells w.r.t their Relative-Density Scores\n",
    "(cellID, cellDensity, numOfNeighbours, neighbourID, neighbourDensity)"
   ]
  },
  {
   "cell_type": "code",
   "execution_count": 31,
   "metadata": {
    "scrolled": false
   },
   "outputs": [
    {
     "data": {
      "text/plain": [
       "rdd: org.apache.spark.rdd.RDD[(Int, Double, Int, Int, Double)] = MapPartitionsRDD[81] at sortBy at <console>:38\n"
      ]
     },
     "execution_count": 31,
     "metadata": {},
     "output_type": "execute_result"
    }
   ],
   "source": [
    "val rdd = top10.flatMap(x => {\n",
    "    val cellNeig = getNeighbour(x._1)\n",
    "    for(oneNeig <- cellNeig)\n",
    "        yield (oneNeig, (x._1, x._2, cellNeig.length))\n",
    "}).leftOuterJoin(cellDensity).map{\n",
    "    case (neigID, ((cellID, cellDensity, neigCount), neigDensity)) => {\n",
    "        (cellID, cellDensity, neigCount, neigID, neigDensity.get)\n",
    "    }\n",
    "}.sortBy(_._1)"
   ]
  },
  {
   "cell_type": "code",
   "execution_count": 32,
   "metadata": {},
   "outputs": [
    {
     "name": "stdout",
     "output_type": "stream",
     "text": [
      "(6457,1.7610062893081762,8,5956,0.8465608465608465)\n",
      "(6457,1.7610062893081762,8,6956,0.6736842105263158)\n",
      "(6457,1.7610062893081762,8,6456,0.8467966573816156)\n",
      "(6457,1.7610062893081762,8,6957,1.0386740331491713)\n",
      "(6457,1.7610062893081762,8,5957,0.7466666666666667)\n",
      "(6457,1.7610062893081762,8,5958,0.8541666666666666)\n",
      "(6457,1.7610062893081762,8,6958,1.0162162162162163)\n",
      "(6457,1.7610062893081762,8,6458,0.8085106382978723)\n",
      "(44947,2.032154340836013,8,44448,0.6253369272237197)\n",
      "(44947,2.032154340836013,8,44948,1.0823529411764705)\n",
      "(44947,2.032154340836013,8,45448,0.6772486772486772)\n",
      "(44947,2.032154340836013,8,44946,0.7411444141689373)\n",
      "(44947,2.032154340836013,8,45446,0.9824561403508771)\n",
      "(44947,2.032154340836013,8,44446,1.1685393258426966)\n",
      "(44947,2.032154340836013,8,45447,0.7091412742382271)\n",
      "(44947,2.032154340836013,8,44447,0.9859943977591037)\n",
      "(46501,1.8206521739130437,5,47001,0.7296137339055794)\n",
      "(46501,1.8206521739130437,5,46001,1.0267857142857144)\n",
      "(46501,1.8206521739130437,5,46002,0.6067415730337079)\n",
      "(46501,1.8206521739130437,5,47002,0.8291316526610645)\n",
      "(46501,1.8206521739130437,5,46502,1.032258064516129)\n",
      "(55493,1.7476923076923077,8,54992,0.7021276595744681)\n",
      "(55493,1.7476923076923077,8,55992,0.9772727272727273)\n",
      "(55493,1.7476923076923077,8,55492,0.7588075880758808)\n",
      "(55493,1.7476923076923077,8,54993,1.0481283422459893)\n",
      "(55493,1.7476923076923077,8,55993,0.935933147632312)\n",
      "(55493,1.7476923076923077,8,55994,0.7253886010362695)\n",
      "(55493,1.7476923076923077,8,55494,0.9865951742627346)\n",
      "(55493,1.7476923076923077,8,54994,0.8571428571428571)\n",
      "(68303,1.8313253012048192,8,67804,0.7309644670050761)\n",
      "(68303,1.8313253012048192,8,68304,0.8682170542635659)\n",
      "(68303,1.8313253012048192,8,68804,1.0526315789473684)\n",
      "(68303,1.8313253012048192,8,68802,0.845360824742268)\n",
      "(68303,1.8313253012048192,8,68302,0.8911917098445595)\n",
      "(68303,1.8313253012048192,8,67802,0.8770053475935828)\n",
      "(68303,1.8313253012048192,8,67803,0.8913649025069638)\n",
      "(68303,1.8313253012048192,8,68803,0.832)\n",
      "(84024,1.7379310344827585,8,84524,0.8536585365853658)\n",
      "(84024,1.7379310344827585,8,83524,0.8611898016997167)\n",
      "(84024,1.7379310344827585,8,84525,0.9913544668587896)\n",
      "(84024,1.7379310344827585,8,84025,0.6455331412103746)\n",
      "(84024,1.7379310344827585,8,83525,0.8772845953002611)\n",
      "(84024,1.7379310344827585,8,83523,0.7843137254901961)\n",
      "(84024,1.7379310344827585,8,84523,0.8112676056338028)\n",
      "(84024,1.7379310344827585,8,84023,0.7564469914040115)\n",
      "(104811,1.7655172413793103,8,104312,0.9385474860335196)\n",
      "(104811,1.7655172413793103,8,105312,0.7639257294429708)\n",
      "(104811,1.7655172413793103,8,104812,0.9017341040462428)\n",
      "(104811,1.7655172413793103,8,105310,0.7576601671309192)\n",
      "(104811,1.7655172413793103,8,104310,0.989247311827957)\n",
      "(104811,1.7655172413793103,8,104810,0.7211267605633803)\n",
      "(104811,1.7655172413793103,8,104311,0.6408839779005525)\n",
      "(104811,1.7655172413793103,8,105311,0.7485380116959064)\n",
      "(142898,1.732484076433121,8,142397,0.9032258064516129)\n",
      "(142898,1.732484076433121,8,142897,0.8409703504043127)\n",
      "(142898,1.732484076433121,8,143397,0.7346938775510204)\n",
      "(142898,1.732484076433121,8,142398,0.9627507163323782)\n",
      "(142898,1.732484076433121,8,143398,0.8021680216802168)\n",
      "(142898,1.732484076433121,8,142399,0.9017341040462428)\n",
      "(142898,1.732484076433121,8,142899,0.6462395543175488)\n",
      "(142898,1.732484076433121,8,143399,1.1730205278592376)\n",
      "(226717,1.741046831955923,8,226716,1.2352941176470589)\n",
      "(226717,1.741046831955923,8,226216,0.7511737089201878)\n",
      "(226717,1.741046831955923,8,227216,0.7706422018348624)\n",
      "(226717,1.741046831955923,8,227217,0.9920844327176781)\n",
      "(226717,1.741046831955923,8,226217,0.9090909090909091)\n",
      "(226717,1.741046831955923,8,227218,1.0514285714285714)\n",
      "(226717,1.741046831955923,8,226218,0.9817232375979112)\n",
      "(226717,1.741046831955923,8,226718,0.6751918158567775)\n",
      "(241132,1.7969230769230768,8,240632,0.7700534759358288)\n",
      "(241132,1.7969230769230768,8,241632,0.7427055702917772)\n",
      "(241132,1.7969230769230768,8,240633,0.8421052631578947)\n",
      "(241132,1.7969230769230768,8,241633,1.0026109660574412)\n",
      "(241132,1.7969230769230768,8,241133,1.1239669421487604)\n",
      "(241132,1.7969230769230768,8,240631,0.837465564738292)\n",
      "(241132,1.7969230769230768,8,241631,0.8067226890756303)\n",
      "(241132,1.7969230769230768,8,241131,0.9187675070028011)\n"
     ]
    }
   ],
   "source": [
    "rdd.collect().foreach(println)"
   ]
  },
  {
   "cell_type": "code",
   "execution_count": null,
   "metadata": {},
   "outputs": [],
   "source": []
  },
  {
   "cell_type": "code",
   "execution_count": null,
   "metadata": {},
   "outputs": [],
   "source": []
  },
  {
   "cell_type": "code",
   "execution_count": null,
   "metadata": {},
   "outputs": [],
   "source": []
  }
 ],
 "metadata": {
  "kernelspec": {
   "display_name": "spylon-kernel",
   "language": "scala",
   "name": "spylon-kernel"
  },
  "language_info": {
   "codemirror_mode": "text/x-scala",
   "file_extension": ".scala",
   "help_links": [
    {
     "text": "MetaKernel Magics",
     "url": "https://github.com/calysto/metakernel/blob/master/metakernel/magics/README.md"
    }
   ],
   "mimetype": "text/x-scala",
   "name": "scala",
   "pygments_lexer": "scala",
   "version": "0.4.1"
  }
 },
 "nbformat": 4,
 "nbformat_minor": 2
}
