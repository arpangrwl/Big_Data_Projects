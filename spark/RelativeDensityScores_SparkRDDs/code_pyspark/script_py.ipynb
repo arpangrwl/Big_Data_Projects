{
 "cells": [
  {
   "cell_type": "code",
   "execution_count": 19,
   "metadata": {},
   "outputs": [
    {
     "data": {
      "text/html": [
       "\n",
       "        <div>\n",
       "            <p><b>SparkContext</b></p>\n",
       "\n",
       "            <p><a href=\"http://autoreg-162572.dyn.wpi.edu:4040\">Spark UI</a></p>\n",
       "\n",
       "            <dl>\n",
       "              <dt>Version</dt>\n",
       "                <dd><code>v2.4.0</code></dd>\n",
       "              <dt>Master</dt>\n",
       "                <dd><code>local[*]</code></dd>\n",
       "              <dt>AppName</dt>\n",
       "                <dd><code>PySparkShell</code></dd>\n",
       "            </dl>\n",
       "        </div>\n",
       "        "
      ],
      "text/plain": [
       "<SparkContext master=local[*] appName=PySparkShell>"
      ]
     },
     "execution_count": 19,
     "metadata": {},
     "output_type": "execute_result"
    }
   ],
   "source": [
    "sc"
   ]
  },
  {
   "cell_type": "markdown",
   "metadata": {},
   "source": [
    "### 1. read points "
   ]
  },
  {
   "cell_type": "code",
   "execution_count": 20,
   "metadata": {},
   "outputs": [],
   "source": [
    "# Load one dataset \n",
    "pointsPath=\"hdfs:////user/ds503/project3/Points.csv\"\n",
    "points=sc.textFile(pointsPath)"
   ]
  },
  {
   "cell_type": "markdown",
   "metadata": {},
   "source": [
    "### 2. define two helper function"
   ]
  },
  {
   "cell_type": "code",
   "execution_count": 21,
   "metadata": {},
   "outputs": [],
   "source": [
    "# Input point x, y\n",
    "# Output cell ID\n",
    "def getCellID(x, y):\n",
    "    cell_x = int((x-1) / 20) + 1 \n",
    "    cell_y = int((y-1) / 20) + 1 \n",
    "    return cell_x + (500 - cell_y) * 500"
   ]
  },
  {
   "cell_type": "code",
   "execution_count": 22,
   "metadata": {},
   "outputs": [],
   "source": [
    "# Input cell ID\n",
    "# Output cell neighbour ID array\n",
    "def getNeighbour(c):\n",
    "    upLeft = c - 501\n",
    "    up = c - 500\n",
    "    upRight = c - 499\n",
    "\n",
    "    left = c - 1\n",
    "    right = c + 1\n",
    "\n",
    "    lowLeft = c + 499\n",
    "    low = c + 500\n",
    "    lowRight = c + 501\n",
    "    \n",
    "    if(c % 500 == 1):\n",
    "        res = [up, upRight, right, low, lowRight]\n",
    "        res = list(filter(lambda x: (x >= 1) & (x <= 250000), res))\n",
    "    elif(c % 500 == 0):\n",
    "        res = [upLeft, up, left, lowLeft, low]\n",
    "        res = list(filter(lambda x: (x >= 1) & (x <= 250000), res))\n",
    "    else:\n",
    "        res = [upLeft, up, upRight, left, right, lowLeft, low, lowRight]\n",
    "        res = list(filter(lambda x: (x >= 1) & (x <= 250000), res))\n",
    "    return res\n",
    "    \n"
   ]
  },
  {
   "cell_type": "markdown",
   "metadata": {},
   "source": [
    "### 3. parse point\n",
    "from string to tuple (x, y)"
   ]
  },
  {
   "cell_type": "code",
   "execution_count": 23,
   "metadata": {
    "scrolled": false
   },
   "outputs": [
    {
     "data": {
      "text/plain": [
       "[[2535, 8149], [155, 6776]]"
      ]
     },
     "execution_count": 23,
     "metadata": {},
     "output_type": "execute_result"
    }
   ],
   "source": [
    "pointsXY = points.map(lambda x: [int(x.split(\",\")[0]), int(x.split(\",\")[1])])\n",
    "pointsXY.take(2)"
   ]
  },
  {
   "cell_type": "markdown",
   "metadata": {},
   "source": [
    "### 4. compute cell points count \n",
    "(cellID, pointCount)"
   ]
  },
  {
   "cell_type": "code",
   "execution_count": 24,
   "metadata": {},
   "outputs": [
    {
     "data": {
      "text/plain": [
       "[(80508, 46), (36938, 49)]"
      ]
     },
     "execution_count": 24,
     "metadata": {},
     "output_type": "execute_result"
    }
   ],
   "source": [
    "cellPointsCount = pointsXY.map(lambda x: (getCellID(x[0], x[1]), 1))\\\n",
    "                          .reduceByKey(lambda x, y: x + y)\n",
    "cellPointsCount.take(2)"
   ]
  },
  {
   "cell_type": "markdown",
   "metadata": {},
   "source": [
    "### 5. compute cell neighbour count\n",
    "(cellID, neighbourCount)"
   ]
  },
  {
   "cell_type": "code",
   "execution_count": 25,
   "metadata": {},
   "outputs": [
    {
     "data": {
      "text/plain": [
       "[[80508, 8], [36938, 8]]"
      ]
     },
     "execution_count": 25,
     "metadata": {},
     "output_type": "execute_result"
    }
   ],
   "source": [
    "def mapFunc1(x):\n",
    "    cellID = x[0]\n",
    "    cellNeigCount = len(getNeighbour(cellID))\n",
    "    return [cellID, cellNeigCount]   \n",
    "\n",
    "cellNeigCount = cellPointsCount.map(mapFunc1)\n",
    "cellNeigCount.take(2)"
   ]
  },
  {
   "cell_type": "markdown",
   "metadata": {},
   "source": [
    "### 6. compute cell neighbour point avg count\n",
    "(cellID, neighbourAvgPointCount)"
   ]
  },
  {
   "cell_type": "code",
   "execution_count": 26,
   "metadata": {},
   "outputs": [
    {
     "data": {
      "text/plain": [
       "[(80008, (80508, 41)), (80008, (79508, 41))]"
      ]
     },
     "execution_count": 26,
     "metadata": {},
     "output_type": "execute_result"
    }
   ],
   "source": [
    "def mapFunc2(x):\n",
    "    cellID = x[0]\n",
    "    cellNeigID = getNeighbour(cellID)\n",
    "    for oneNeig in cellNeigID:\n",
    "        yield (oneNeig, cellID)\n",
    "        \n",
    "cellNeigFlatCount = cellPointsCount.flatMap(mapFunc2).leftOuterJoin(cellPointsCount)\n",
    "cellNeigFlatCount.take(2)"
   ]
  },
  {
   "cell_type": "code",
   "execution_count": 27,
   "metadata": {},
   "outputs": [
    {
     "data": {
      "text/plain": [
       "[(80508, 363), (79508, 327)]"
      ]
     },
     "execution_count": 27,
     "metadata": {},
     "output_type": "execute_result"
    }
   ],
   "source": [
    "# (cellID, neighbourPointCount)\n",
    "def mapFunc3(x):\n",
    "    cellID = x[1][0]\n",
    "    cellNeigPointCount = 0 if(x[1][1] == None) else x[1][1]\n",
    "    return (cellID, cellNeigPointCount)\n",
    "cellNeigPointCount = cellNeigFlatCount.map(mapFunc3).reduceByKey(lambda x, y: x + y)\n",
    "cellNeigPointCount.take(2)"
   ]
  },
  {
   "cell_type": "code",
   "execution_count": 28,
   "metadata": {},
   "outputs": [
    {
     "data": {
      "text/plain": [
       "[(80508, 45.375), (228372, 40.25)]"
      ]
     },
     "execution_count": 28,
     "metadata": {},
     "output_type": "execute_result"
    }
   ],
   "source": [
    "cellNeigAvgCount = cellNeigPointCount.join(cellNeigCount)\\\n",
    "                                     .map(lambda x: (x[0], (x[1][0]/x[1][1])))\n",
    "cellNeigAvgCount.take(2)"
   ]
  },
  {
   "cell_type": "markdown",
   "metadata": {},
   "source": [
    "### 7. compute cell density"
   ]
  },
  {
   "cell_type": "code",
   "execution_count": 29,
   "metadata": {},
   "outputs": [],
   "source": [
    "cellDensity = cellPointsCount.join(cellNeigAvgCount)\\\n",
    "                             .map(lambda x: (x[0], x[1][0]/ x[1][1]))\\\n",
    "                             .sortBy(lambda x: -x[1])\n"
   ]
  },
  {
   "cell_type": "code",
   "execution_count": 30,
   "metadata": {},
   "outputs": [
    {
     "data": {
      "text/plain": [
       "[(44947, 2.032154340836013),\n",
       " (68303, 1.8313253012048192),\n",
       " (46501, 1.8206521739130437)]"
      ]
     },
     "execution_count": 30,
     "metadata": {},
     "output_type": "execute_result"
    }
   ],
   "source": [
    "cellDensity.take(3)"
   ]
  },
  {
   "cell_type": "markdown",
   "metadata": {},
   "source": [
    "### 8. Top10 Density"
   ]
  },
  {
   "cell_type": "code",
   "execution_count": 31,
   "metadata": {},
   "outputs": [],
   "source": [
    "top10 = sc.parallelize(cellDensity.take(10))"
   ]
  },
  {
   "cell_type": "code",
   "execution_count": 32,
   "metadata": {},
   "outputs": [
    {
     "data": {
      "text/plain": [
       "[(44947, 2.032154340836013),\n",
       " (68303, 1.8313253012048192),\n",
       " (46501, 1.8206521739130437),\n",
       " (241132, 1.7969230769230768),\n",
       " (104811, 1.7655172413793103),\n",
       " (6457, 1.7610062893081762),\n",
       " (55493, 1.7476923076923077),\n",
       " (226717, 1.741046831955923),\n",
       " (84024, 1.7379310344827585),\n",
       " (142898, 1.732484076433121)]"
      ]
     },
     "execution_count": 32,
     "metadata": {},
     "output_type": "execute_result"
    }
   ],
   "source": [
    "top10.collect()"
   ]
  },
  {
   "cell_type": "markdown",
   "metadata": {},
   "source": [
    "### 9. TOP k grid cells w.r.t their Relative-Density Scores\n",
    "(cellID, cellDensity, numOfNeighbours, neighbourID, neighbourDensity)"
   ]
  },
  {
   "cell_type": "code",
   "execution_count": 33,
   "metadata": {},
   "outputs": [],
   "source": [
    "def flatMapFunc4(x):\n",
    "    cellNeig = getNeighbour(x[0])\n",
    "    for oneNeig in cellNeig:\n",
    "        yield (oneNeig, (x[0], x[1], len(cellNeig)))\n",
    "\n",
    "def mapFunc5(x):\n",
    "    neigID = x[0]\n",
    "    cellID = x[1][0][0]\n",
    "    cellDensity = x[1][0][1]\n",
    "    neigCount = x[1][0][2]\n",
    "    neigDensity = x[1][1]\n",
    "    \n",
    "    return cellID, cellDensity, neigCount, neigID, neigDensity\n",
    "    \n",
    "rdd = top10.flatMap(flatMapFunc4)\\\n",
    "           .leftOuterJoin(cellDensity)\\\n",
    "           .map(mapFunc5)\\\n",
    "           .sortBy(lambda x: x[0])\n"
   ]
  },
  {
   "cell_type": "code",
   "execution_count": 34,
   "metadata": {},
   "outputs": [
    {
     "data": {
      "text/plain": [
       "[(6457, 1.7610062893081762, 8, 6456, 0.8467966573816156),\n",
       " (6457, 1.7610062893081762, 8, 6458, 0.8085106382978723),\n",
       " (6457, 1.7610062893081762, 8, 5956, 0.8465608465608465),\n",
       " (6457, 1.7610062893081762, 8, 5957, 0.7466666666666667),\n",
       " (6457, 1.7610062893081762, 8, 5958, 0.8541666666666666),\n",
       " (6457, 1.7610062893081762, 8, 6956, 0.6736842105263158),\n",
       " (6457, 1.7610062893081762, 8, 6957, 1.0386740331491713),\n",
       " (6457, 1.7610062893081762, 8, 6958, 1.0162162162162163),\n",
       " (44947, 2.032154340836013, 8, 44448, 0.6253369272237197),\n",
       " (44947, 2.032154340836013, 8, 45446, 0.9824561403508771),\n",
       " (44947, 2.032154340836013, 8, 45447, 0.7091412742382271),\n",
       " (44947, 2.032154340836013, 8, 45448, 0.6772486772486772),\n",
       " (44947, 2.032154340836013, 8, 44946, 0.7411444141689373),\n",
       " (44947, 2.032154340836013, 8, 44948, 1.0823529411764705),\n",
       " (44947, 2.032154340836013, 8, 44446, 1.1685393258426966),\n",
       " (44947, 2.032154340836013, 8, 44447, 0.9859943977591037),\n",
       " (46501, 1.8206521739130437, 5, 46502, 1.032258064516129),\n",
       " (46501, 1.8206521739130437, 5, 46001, 1.0267857142857144),\n",
       " (46501, 1.8206521739130437, 5, 46002, 0.6067415730337079),\n",
       " (46501, 1.8206521739130437, 5, 47001, 0.7296137339055794),\n",
       " (46501, 1.8206521739130437, 5, 47002, 0.8291316526610645),\n",
       " (55493, 1.7476923076923077, 8, 55992, 0.9772727272727273),\n",
       " (55493, 1.7476923076923077, 8, 55993, 0.935933147632312),\n",
       " (55493, 1.7476923076923077, 8, 55994, 0.7253886010362695),\n",
       " (55493, 1.7476923076923077, 8, 55492, 0.7588075880758808),\n",
       " (55493, 1.7476923076923077, 8, 55494, 0.9865951742627346),\n",
       " (55493, 1.7476923076923077, 8, 54992, 0.7021276595744681),\n",
       " (55493, 1.7476923076923077, 8, 54993, 1.0481283422459893),\n",
       " (55493, 1.7476923076923077, 8, 54994, 0.8571428571428571),\n",
       " (68303, 1.8313253012048192, 8, 68304, 0.8682170542635659),\n",
       " (68303, 1.8313253012048192, 8, 67802, 0.8770053475935828),\n",
       " (68303, 1.8313253012048192, 8, 67803, 0.8913649025069638),\n",
       " (68303, 1.8313253012048192, 8, 67804, 0.7309644670050761),\n",
       " (68303, 1.8313253012048192, 8, 68802, 0.845360824742268),\n",
       " (68303, 1.8313253012048192, 8, 68803, 0.832),\n",
       " (68303, 1.8313253012048192, 8, 68804, 1.0526315789473684),\n",
       " (68303, 1.8313253012048192, 8, 68302, 0.8911917098445595),\n",
       " (84024, 1.7379310344827585, 8, 84025, 0.6455331412103746),\n",
       " (84024, 1.7379310344827585, 8, 83523, 0.7843137254901961),\n",
       " (84024, 1.7379310344827585, 8, 83524, 0.8611898016997167),\n",
       " (84024, 1.7379310344827585, 8, 83525, 0.8772845953002611),\n",
       " (84024, 1.7379310344827585, 8, 84523, 0.8112676056338028),\n",
       " (84024, 1.7379310344827585, 8, 84524, 0.8536585365853658),\n",
       " (84024, 1.7379310344827585, 8, 84525, 0.9913544668587896),\n",
       " (84024, 1.7379310344827585, 8, 84023, 0.7564469914040115),\n",
       " (104811, 1.7655172413793103, 8, 105312, 0.7639257294429708),\n",
       " (104811, 1.7655172413793103, 8, 104810, 0.7211267605633803),\n",
       " (104811, 1.7655172413793103, 8, 104812, 0.9017341040462428),\n",
       " (104811, 1.7655172413793103, 8, 104310, 0.989247311827957),\n",
       " (104811, 1.7655172413793103, 8, 104311, 0.6408839779005525),\n",
       " (104811, 1.7655172413793103, 8, 104312, 0.9385474860335196),\n",
       " (104811, 1.7655172413793103, 8, 105310, 0.7576601671309192),\n",
       " (104811, 1.7655172413793103, 8, 105311, 0.7485380116959064),\n",
       " (142898, 1.732484076433121, 8, 142897, 0.8409703504043127),\n",
       " (142898, 1.732484076433121, 8, 142899, 0.6462395543175488),\n",
       " (142898, 1.732484076433121, 8, 142397, 0.9032258064516129),\n",
       " (142898, 1.732484076433121, 8, 142398, 0.9627507163323782),\n",
       " (142898, 1.732484076433121, 8, 142399, 0.9017341040462428),\n",
       " (142898, 1.732484076433121, 8, 143397, 0.7346938775510204),\n",
       " (142898, 1.732484076433121, 8, 143398, 0.8021680216802168),\n",
       " (142898, 1.732484076433121, 8, 143399, 1.1730205278592376),\n",
       " (226717, 1.741046831955923, 8, 226716, 1.2352941176470589),\n",
       " (226717, 1.741046831955923, 8, 226718, 0.6751918158567775),\n",
       " (226717, 1.741046831955923, 8, 226216, 0.7511737089201878),\n",
       " (226717, 1.741046831955923, 8, 226217, 0.9090909090909091),\n",
       " (226717, 1.741046831955923, 8, 226218, 0.9817232375979112),\n",
       " (226717, 1.741046831955923, 8, 227216, 0.7706422018348624),\n",
       " (226717, 1.741046831955923, 8, 227217, 0.9920844327176781),\n",
       " (226717, 1.741046831955923, 8, 227218, 1.0514285714285714),\n",
       " (241132, 1.7969230769230768, 8, 241632, 0.7427055702917772),\n",
       " (241132, 1.7969230769230768, 8, 241633, 1.0026109660574412),\n",
       " (241132, 1.7969230769230768, 8, 241131, 0.9187675070028011),\n",
       " (241132, 1.7969230769230768, 8, 241133, 1.1239669421487604),\n",
       " (241132, 1.7969230769230768, 8, 240631, 0.837465564738292),\n",
       " (241132, 1.7969230769230768, 8, 240632, 0.7700534759358288),\n",
       " (241132, 1.7969230769230768, 8, 240633, 0.8421052631578947),\n",
       " (241132, 1.7969230769230768, 8, 241631, 0.8067226890756303)]"
      ]
     },
     "execution_count": 34,
     "metadata": {},
     "output_type": "execute_result"
    }
   ],
   "source": [
    "rdd.collect()"
   ]
  },
  {
   "cell_type": "code",
   "execution_count": null,
   "metadata": {},
   "outputs": [],
   "source": []
  },
  {
   "cell_type": "code",
   "execution_count": null,
   "metadata": {},
   "outputs": [],
   "source": []
  }
 ],
 "metadata": {
  "kernelspec": {
   "display_name": "Python 3",
   "language": "python",
   "name": "python3"
  },
  "language_info": {
   "codemirror_mode": {
    "name": "ipython",
    "version": 3
   },
   "file_extension": ".py",
   "mimetype": "text/x-python",
   "name": "python",
   "nbconvert_exporter": "python",
   "pygments_lexer": "ipython3",
   "version": "3.6.8"
  }
 },
 "nbformat": 4,
 "nbformat_minor": 2
}
