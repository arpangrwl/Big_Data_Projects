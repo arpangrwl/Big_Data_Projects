{
 "cells": [
  {
   "cell_type": "code",
   "execution_count": 4,
   "metadata": {},
   "outputs": [],
   "source": [
    "import numpy as np\n",
    "import pandas as pd\n",
    "import names"
   ]
  },
  {
   "cell_type": "markdown",
   "metadata": {},
   "source": [
    "### 1 MyPage"
   ]
  },
  {
   "cell_type": "code",
   "execution_count": 5,
   "metadata": {},
   "outputs": [],
   "source": [
    "# 1-100000\n",
    "ID = list(range(1,100001))"
   ]
  },
  {
   "cell_type": "code",
   "execution_count": 6,
   "metadata": {},
   "outputs": [
    {
     "name": "stdout",
     "output_type": "stream",
     "text": [
      "100000\n",
      "['Brad Yarberry', 'Ted Conover', 'Timothy Barnes', 'Virginia Hooks', 'Nicole Duncan']\n"
     ]
    }
   ],
   "source": [
    "# 100000 names with 1000 distinct names\n",
    "Name1000 = []\n",
    "for _ in range(1000):\n",
    "    Name1000.append(names.get_full_name())\n",
    "Name = Name1000*100\n",
    "\n",
    "print(len(Name))          \n",
    "print(Name[:5])"
   ]
  },
  {
   "cell_type": "code",
   "execution_count": 7,
   "metadata": {},
   "outputs": [
    {
     "data": {
      "text/plain": [
       "100000"
      ]
     },
     "execution_count": 7,
     "metadata": {},
     "output_type": "execute_result"
    }
   ],
   "source": [
    "Nationality197 = ['Afghan', 'Albanian', 'Algerian', 'American', 'Andorran', 'Angolan', 'Antiguans', 'Argentinean', 'Armenian', 'Australian', 'Austrian', 'Azerbaijani', 'Bahamian', 'Bahraini', 'Bangladeshi', 'Barbadian', 'Barbudans', 'Batswana', 'Belarusian', 'Belgian', 'Belizean', 'Beninese', 'Bhutanese', 'Bolivian', 'Bosnian', 'Brazilian', 'British', 'Bruneian', 'Bulgarian', 'Burkinabe', 'Burmese', 'Burundian', 'Cambodian', 'Cameroonian', 'Canadian', 'Cape Verdean', 'Central African', 'Chadian', 'Chilean', 'Chinese', 'Colombian', 'Comoran',  'Congolese', 'Costa Rican', 'Croatian', 'Cuban', 'Cypriot', 'Czech', 'Danish', 'Djibouti', 'Dominican', 'Dutch', 'Dutchman', 'Dutchwoman', 'East Timorese', 'Ecuadorean', 'Egyptian', 'Emirian', 'Equatorial Guinean', 'Eritrean', 'Estonian', 'Ethiopian', 'Fijian', 'Filipino', 'Finnish', 'French', 'Gabonese', 'Gambian', 'Georgian', 'German', 'Ghanaian', 'Greek', 'Grenadian', 'Guatemalan', 'Guinea-Bissauan', 'Guinean', 'Guyanese', 'Haitian', 'Herzegovinian', 'Honduran', 'Hungarian', 'I-Kiribati', 'Icelander', 'Indian', 'Indonesian', 'Iranian', 'Iraqi', 'Irish', 'Israeli', 'Italian', 'Ivorian', 'Jamaican', 'Japanese', 'Jordanian', 'Kazakhstani', 'Kenyan', 'Kittian and Nevisian', 'Kuwaiti', 'Kyrgyz', 'Laotian', 'Latvian', 'Lebanese', 'Liberian', 'Libyan', 'Liechtensteiner', 'Lithuanian', 'Luxembourger', 'Macedonian', 'Malagasy', 'Malawian', 'Malaysian', 'Maldivan', 'Malian', 'Maltese', 'Marshallese', 'Mauritanian', 'Mauritian', 'Mexican', 'Micronesian', 'Moldovan', 'Monacan', 'Mongolian', 'Moroccan', 'Mosotho', 'Motswana', 'Mozambican', 'Namibian', 'Nauruan', 'Nepalese', 'Netherlander', 'New Zealander', 'Ni-Vanuatu', 'Nicaraguan', 'Nigerian', 'Nigerien', 'North Korean', 'Northern Irish', 'Norwegian', 'Omani', 'Pakistani', 'Palauan', 'Panamanian', 'Papua New Guinean', 'Paraguayan', 'Peruvian', 'Polish', 'Portuguese', 'Qatari', 'Romanian', 'Russian', 'Rwandan', 'Saint Lucian', 'Salvadoran', 'Samoan', 'San Marinese', 'Sao Tomean', 'Saudi', 'Scottish', 'Senegalese', 'Serbian', 'Seychellois', 'Sierra Leonean', 'Singaporean', 'Slovakian', 'Slovenian', 'Solomon Islander', 'Somali', 'South African', 'South Korean', 'Spanish', 'Sri Lankan', 'Sudanese', 'Surinamer', 'Swazi', 'Swedish', 'Swiss', 'Syrian', 'Taiwanese', 'Tajik', 'Tanzanian', 'Thai', 'Togolese', 'Tongan', 'Trinidadian or Tobagonian', 'Tunisian', 'Turkish', 'Tuvaluan', 'Ugandan', 'Ukrainian', 'Uruguayan', 'Uzbekistani', 'Venezuelan', 'Vietnamese', 'Welsh', 'Yemenite', 'Zambian', 'Zimbabwean']\n",
    "Nationality70 = Nationality197[:70]\n",
    "\n",
    "Nationality_CountryCode70 = {}\n",
    "for i in range(0,70): #0-69\n",
    "    nationality = Nationality70[i]\n",
    "    code = i+1\n",
    "    Nationality_CountryCode70[nationality] = code\n",
    "Nationality = np.random.choice(Nationality70, 100000)\n",
    "len(Nationality)"
   ]
  },
  {
   "cell_type": "code",
   "execution_count": 8,
   "metadata": {},
   "outputs": [
    {
     "data": {
      "text/plain": [
       "100000"
      ]
     },
     "execution_count": 8,
     "metadata": {},
     "output_type": "execute_result"
    }
   ],
   "source": [
    "CountryCode = [Nationality_CountryCode70[nation] for nation in Nationality]\n",
    "len(CountryCode)"
   ]
  },
  {
   "cell_type": "code",
   "execution_count": 9,
   "metadata": {},
   "outputs": [
    {
     "name": "stdout",
     "output_type": "stream",
     "text": [
      "100000\n",
      "['I dislike Taxidermy', 'I dislike Basketball', 'I like Fashion', 'I like Rowing', 'I like Web surfing']\n"
     ]
    }
   ],
   "source": [
    "# hobby\n",
    "verbs = (\"like\", \"dislike\") \n",
    "hobby = pd.read_table(\"hobby.txt\").values.flatten().tolist()\n",
    "\n",
    "Hobby = []\n",
    "for i in range(100000):\n",
    "    verbIdx = np.random.randint(0,2) #0/1 \n",
    "    hobbyIdx = np.random.randint(0,len(hobby)-1)\n",
    "    h1 = ('I ' + verbs[verbIdx] + ' ' + hobby[hobbyIdx])\n",
    "    Hobby.append(h1)\n",
    "\n",
    "print(len(Hobby))\n",
    "print(Hobby[0:5])"
   ]
  },
  {
   "cell_type": "code",
   "execution_count": 10,
   "metadata": {},
   "outputs": [
    {
     "name": "stdout",
     "output_type": "stream",
     "text": [
      "(100000, 5)\n"
     ]
    },
    {
     "data": {
      "text/html": [
       "<div>\n",
       "<style scoped>\n",
       "    .dataframe tbody tr th:only-of-type {\n",
       "        vertical-align: middle;\n",
       "    }\n",
       "\n",
       "    .dataframe tbody tr th {\n",
       "        vertical-align: top;\n",
       "    }\n",
       "\n",
       "    .dataframe thead th {\n",
       "        text-align: right;\n",
       "    }\n",
       "</style>\n",
       "<table border=\"1\" class=\"dataframe\">\n",
       "  <thead>\n",
       "    <tr style=\"text-align: right;\">\n",
       "      <th></th>\n",
       "      <th>ID</th>\n",
       "      <th>Name</th>\n",
       "      <th>Nationality</th>\n",
       "      <th>CountryCode</th>\n",
       "      <th>Hobby</th>\n",
       "    </tr>\n",
       "  </thead>\n",
       "  <tbody>\n",
       "    <tr>\n",
       "      <th>0</th>\n",
       "      <td>1</td>\n",
       "      <td>Brad Yarberry</td>\n",
       "      <td>Angolan</td>\n",
       "      <td>6</td>\n",
       "      <td>I dislike Taxidermy</td>\n",
       "    </tr>\n",
       "    <tr>\n",
       "      <th>1</th>\n",
       "      <td>2</td>\n",
       "      <td>Ted Conover</td>\n",
       "      <td>Bahamian</td>\n",
       "      <td>13</td>\n",
       "      <td>I dislike Basketball</td>\n",
       "    </tr>\n",
       "  </tbody>\n",
       "</table>\n",
       "</div>"
      ],
      "text/plain": [
       "   ID           Name Nationality  CountryCode                 Hobby\n",
       "0   1  Brad Yarberry     Angolan            6   I dislike Taxidermy\n",
       "1   2    Ted Conover    Bahamian           13  I dislike Basketball"
      ]
     },
     "execution_count": 10,
     "metadata": {},
     "output_type": "execute_result"
    }
   ],
   "source": [
    "MyPage = pd.DataFrame(data={\n",
    "    \"ID\":ID,\n",
    "    \"Name\":Name,\n",
    "    \"Nationality\":Nationality,\n",
    "    \"CountryCode\":CountryCode,\n",
    "    \"Hobby\":Hobby\n",
    "})\n",
    "print(MyPage.shape)\n",
    "MyPage.to_csv('inputdata/MyPage',header=False, index = False)\n",
    "MyPage.head(2)"
   ]
  },
  {
   "cell_type": "markdown",
   "metadata": {},
   "source": [
    "### 2 Friends"
   ]
  },
  {
   "cell_type": "code",
   "execution_count": 11,
   "metadata": {},
   "outputs": [],
   "source": [
    "# 1-20000000\n",
    "FriendRel = list(range(1,20000001))"
   ]
  },
  {
   "cell_type": "code",
   "execution_count": 12,
   "metadata": {},
   "outputs": [],
   "source": [
    "# FB MyPage ID random choice\n",
    "PersonID = np.random.choice(MyPage['ID'],20000000)"
   ]
  },
  {
   "cell_type": "code",
   "execution_count": 13,
   "metadata": {},
   "outputs": [],
   "source": [
    "# Friend ID\n",
    "MyFriend = np.random.choice(MyPage['ID'],20000000)"
   ]
  },
  {
   "cell_type": "code",
   "execution_count": 14,
   "metadata": {},
   "outputs": [],
   "source": [
    "DateofFriendship = np.random.choice(list(range(0,1000001)),20000000)"
   ]
  },
  {
   "cell_type": "code",
   "execution_count": 15,
   "metadata": {},
   "outputs": [],
   "source": [
    "friendship = ['girlfriend','classmate','teacher','boyfriend','wife','husband',\\\n",
    "              'colleague','mentor','netfriend','sister','brother','collegefriend']\n",
    "Desc = np.random.choice(friendship,20000000)"
   ]
  },
  {
   "cell_type": "code",
   "execution_count": 23,
   "metadata": {},
   "outputs": [
    {
     "name": "stdout",
     "output_type": "stream",
     "text": [
      "(20000000, 5)\n"
     ]
    },
    {
     "data": {
      "text/html": [
       "<div>\n",
       "<style scoped>\n",
       "    .dataframe tbody tr th:only-of-type {\n",
       "        vertical-align: middle;\n",
       "    }\n",
       "\n",
       "    .dataframe tbody tr th {\n",
       "        vertical-align: top;\n",
       "    }\n",
       "\n",
       "    .dataframe thead th {\n",
       "        text-align: right;\n",
       "    }\n",
       "</style>\n",
       "<table border=\"1\" class=\"dataframe\">\n",
       "  <thead>\n",
       "    <tr style=\"text-align: right;\">\n",
       "      <th></th>\n",
       "      <th>FriendRel</th>\n",
       "      <th>PersonID</th>\n",
       "      <th>MyFriend</th>\n",
       "      <th>DateofFriendship</th>\n",
       "      <th>Desc</th>\n",
       "    </tr>\n",
       "  </thead>\n",
       "  <tbody>\n",
       "    <tr>\n",
       "      <th>0</th>\n",
       "      <td>1</td>\n",
       "      <td>36156</td>\n",
       "      <td>82603</td>\n",
       "      <td>147927</td>\n",
       "      <td>collegefriend</td>\n",
       "    </tr>\n",
       "    <tr>\n",
       "      <th>1</th>\n",
       "      <td>2</td>\n",
       "      <td>20301</td>\n",
       "      <td>71718</td>\n",
       "      <td>666716</td>\n",
       "      <td>girlfriend</td>\n",
       "    </tr>\n",
       "  </tbody>\n",
       "</table>\n",
       "</div>"
      ],
      "text/plain": [
       "   FriendRel  PersonID  MyFriend  DateofFriendship           Desc\n",
       "0          1     36156     82603            147927  collegefriend\n",
       "1          2     20301     71718            666716     girlfriend"
      ]
     },
     "execution_count": 23,
     "metadata": {},
     "output_type": "execute_result"
    }
   ],
   "source": [
    "Friends = pd.DataFrame(data={\n",
    "    \"FriendRel\":FriendRel,\n",
    "    \"PersonID\":PersonID,\n",
    "    \"MyFriend\":MyFriend,\n",
    "    \"DateofFriendship\":DateofFriendship,\n",
    "    \"Desc\":Desc\n",
    "})\n",
    "print(Friends.shape)\n",
    "Friends.to_csv('inputdata/Friends',header=False, index = False)\n",
    "Friends.head(2)"
   ]
  },
  {
   "cell_type": "markdown",
   "metadata": {},
   "source": [
    "### 3 AccessLog"
   ]
  },
  {
   "cell_type": "code",
   "execution_count": 24,
   "metadata": {},
   "outputs": [],
   "source": [
    "# 1-10000000\n",
    "AccessID = list(range(1,10000001))"
   ]
  },
  {
   "cell_type": "code",
   "execution_count": 25,
   "metadata": {},
   "outputs": [],
   "source": [
    "ByWho = np.random.choice(MyPage['ID'],10000000)"
   ]
  },
  {
   "cell_type": "code",
   "execution_count": 26,
   "metadata": {},
   "outputs": [],
   "source": [
    "WhatPage = np.random.choice(MyPage['ID'],10000000)"
   ]
  },
  {
   "cell_type": "code",
   "execution_count": 27,
   "metadata": {},
   "outputs": [],
   "source": [
    "accesstype = ['just viewed','left a note','added a friendship',\\\n",
    "              'like photo','comment','recommended friendship',\n",
    "              'watch live']\n",
    "TypeOfAccess = np.random.choice(accesstype,10000000)"
   ]
  },
  {
   "cell_type": "code",
   "execution_count": 28,
   "metadata": {},
   "outputs": [],
   "source": [
    "AccessTime = np.random.choice(list(range(1,1000001)),10000000)"
   ]
  },
  {
   "cell_type": "code",
   "execution_count": 29,
   "metadata": {},
   "outputs": [
    {
     "name": "stdout",
     "output_type": "stream",
     "text": [
      "(10000000, 5)\n"
     ]
    },
    {
     "data": {
      "text/html": [
       "<div>\n",
       "<style scoped>\n",
       "    .dataframe tbody tr th:only-of-type {\n",
       "        vertical-align: middle;\n",
       "    }\n",
       "\n",
       "    .dataframe tbody tr th {\n",
       "        vertical-align: top;\n",
       "    }\n",
       "\n",
       "    .dataframe thead th {\n",
       "        text-align: right;\n",
       "    }\n",
       "</style>\n",
       "<table border=\"1\" class=\"dataframe\">\n",
       "  <thead>\n",
       "    <tr style=\"text-align: right;\">\n",
       "      <th></th>\n",
       "      <th>AccessID</th>\n",
       "      <th>ByWho</th>\n",
       "      <th>WhatPage</th>\n",
       "      <th>TypeOfAccess</th>\n",
       "      <th>AccessTime</th>\n",
       "    </tr>\n",
       "  </thead>\n",
       "  <tbody>\n",
       "    <tr>\n",
       "      <th>0</th>\n",
       "      <td>1</td>\n",
       "      <td>96024</td>\n",
       "      <td>88567</td>\n",
       "      <td>watch live</td>\n",
       "      <td>769323</td>\n",
       "    </tr>\n",
       "    <tr>\n",
       "      <th>1</th>\n",
       "      <td>2</td>\n",
       "      <td>7570</td>\n",
       "      <td>32466</td>\n",
       "      <td>left a note</td>\n",
       "      <td>567265</td>\n",
       "    </tr>\n",
       "  </tbody>\n",
       "</table>\n",
       "</div>"
      ],
      "text/plain": [
       "   AccessID  ByWho  WhatPage TypeOfAccess  AccessTime\n",
       "0         1  96024     88567   watch live      769323\n",
       "1         2   7570     32466  left a note      567265"
      ]
     },
     "execution_count": 29,
     "metadata": {},
     "output_type": "execute_result"
    }
   ],
   "source": [
    "AccessLog = pd.DataFrame(data={\n",
    "    \"AccessID\":AccessID,\n",
    "    \"ByWho\":ByWho,\n",
    "    \"WhatPage\":WhatPage,\n",
    "    \"TypeOfAccess\":TypeOfAccess,\n",
    "    \"AccessTime\":AccessTime\n",
    "})\n",
    "print(AccessLog.shape)\n",
    "AccessLog.to_csv('inputdata/AccessLog',header=False, index = False)\n",
    "AccessLog.head(2)"
   ]
  },
  {
   "cell_type": "code",
   "execution_count": null,
   "metadata": {},
   "outputs": [],
   "source": []
  },
  {
   "cell_type": "code",
   "execution_count": null,
   "metadata": {},
   "outputs": [],
   "source": []
  },
  {
   "cell_type": "code",
   "execution_count": null,
   "metadata": {},
   "outputs": [],
   "source": []
  }
 ],
 "metadata": {
  "kernelspec": {
   "display_name": "Python 3",
   "language": "python",
   "name": "python3"
  },
  "language_info": {
   "codemirror_mode": {
    "name": "ipython",
    "version": 3
   },
   "file_extension": ".py",
   "mimetype": "text/x-python",
   "name": "python",
   "nbconvert_exporter": "python",
   "pygments_lexer": "ipython3",
   "version": "3.6.8"
  }
 },
 "nbformat": 4,
 "nbformat_minor": 2
}
